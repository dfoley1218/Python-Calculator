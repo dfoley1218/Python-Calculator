{
 "cells": [
  {
   "cell_type": "code",
   "execution_count": null,
   "id": "87943d98-13e9-4872-aa2f-53380abfc9da",
   "metadata": {},
   "outputs": [],
   "source": []
  },
  {
   "cell_type": "code",
   "execution_count": null,
   "id": "b2975ce6-7286-4aa5-8ded-cd2bff13f77c",
   "metadata": {},
   "outputs": [],
   "source": []
  },
  {
   "cell_type": "code",
   "execution_count": 2,
   "id": "fdebf1a8-63c5-4975-9bb4-b6868af0554f",
   "metadata": {},
   "outputs": [],
   "source": [
    "# Calculator Project"
   ]
  },
  {
   "cell_type": "code",
   "execution_count": null,
   "id": "9fe5537a-eb35-4033-9a40-33d87879d8ec",
   "metadata": {},
   "outputs": [],
   "source": []
  },
  {
   "cell_type": "code",
   "execution_count": 4,
   "id": "8c68195a-6f5f-4e2f-bbaa-25c4de5abd4a",
   "metadata": {},
   "outputs": [],
   "source": [
    "def add(x,y):\n",
    "    return x + y\n",
    "\n",
    "def subtract(x,y):\n",
    "    return x - y\n",
    "\n",
    "def multiply(x,y):\n",
    "    return x * y\n",
    "\n",
    "def divide(x,y):\n",
    "    return x / y"
   ]
  },
  {
   "cell_type": "code",
   "execution_count": 8,
   "id": "7425b1b0-a84c-4e01-b594-47bd4cbd487a",
   "metadata": {},
   "outputs": [
    {
     "name": "stdin",
     "output_type": "stream",
     "text": [
      "Enter Choice: (A, S, M, D): A\n",
      "Enter first number:  2\n",
      "Enter second number:  3\n"
     ]
    }
   ],
   "source": [
    "choice = input(\"Enter Choice: (A, S, M, D):\")\n",
    "\n",
    "num1 = float(input(\"Enter first number: \"))\n",
    "\n",
    "num2 = float(input(\"Enter second number: \"))"
   ]
  },
  {
   "cell_type": "code",
   "execution_count": 38,
   "id": "1115a077-4202-477d-9830-6b9dc467f8af",
   "metadata": {},
   "outputs": [
    {
     "name": "stdout",
     "output_type": "stream",
     "text": [
      "Enter 'A' for Addition.\n",
      "Enter 'S' for Subtraction.\n",
      "Enter 'M' for Multiplication.\n",
      "Enter 'D' for Division.\n"
     ]
    },
    {
     "name": "stdin",
     "output_type": "stream",
     "text": [
      "Enter Choice: (A, S, M, D): a\n",
      "Enter first number:  3\n",
      "Enter second number:  3\n"
     ]
    },
    {
     "name": "stdout",
     "output_type": "stream",
     "text": [
      "3.0 + 3.0 = 6.0\n"
     ]
    }
   ],
   "source": [
    "print(\"Enter 'A' for Addition.\")\n",
    "print(\"Enter 'S' for Subtraction.\")\n",
    "print(\"Enter 'M' for Multiplication.\")\n",
    "print(\"Enter 'D' for Division.\")\n",
    "\n",
    "\n",
    "choice = input(\"Enter Choice: (A, S, M, D):\")\n",
    "\n",
    "if choice.upper() in ('A', 'ADD', 'S', 'SUBTRACT', 'M', 'MULTIPLY', 'D', 'DIVIDE'):\n",
    "    num1 = float(input(\"Enter first number: \"))\n",
    "    num2 = float(input(\"Enter second number: \"))\n",
    "\n",
    "    if choice.upper() in ('A', 'ADD'):\n",
    "        print(num1, '+', num2, '=', add(num1,num2))\n",
    "\n",
    "    elif choice.upper() in ('S', 'SUBTRACT'):\n",
    "        print(num1, '-', num2, '=', subtract(num1,num2))\n",
    "\n",
    "    elif choice.upper() in ('M', 'MULTIPLY'):\n",
    "        print(num1, '*', num2, '=', multiply(num1,num2))\n",
    "\n",
    "    elif choice.upper() in ('D', 'DIVIDE'):\n",
    "        print(num1, '/', num2, '=', divide(num1,num2))\n",
    "\n",
    "else:\n",
    "    print(\"Your input was invalid. Please input a correct choice.\")\n",
    "    "
   ]
  },
  {
   "cell_type": "code",
   "execution_count": null,
   "id": "40e990be-0c56-4395-b38b-87fccae3870e",
   "metadata": {},
   "outputs": [],
   "source": []
  },
  {
   "cell_type": "code",
   "execution_count": null,
   "id": "99485683-b5c3-4494-bf03-5aa4c69018dc",
   "metadata": {},
   "outputs": [],
   "source": []
  },
  {
   "cell_type": "code",
   "execution_count": null,
   "id": "76958c3a-1c60-4fcc-bdeb-370a9937fc7b",
   "metadata": {},
   "outputs": [],
   "source": []
  },
  {
   "cell_type": "code",
   "execution_count": null,
   "id": "dda2338a-b806-479b-8c0d-c68c77810c39",
   "metadata": {},
   "outputs": [],
   "source": []
  },
  {
   "cell_type": "code",
   "execution_count": null,
   "id": "6718bc24-85bc-48a6-a563-ed967b11a341",
   "metadata": {},
   "outputs": [],
   "source": [
    "# Final project"
   ]
  },
  {
   "cell_type": "code",
   "execution_count": null,
   "id": "4b577502-113b-4165-9ce1-ca42a2e0701d",
   "metadata": {},
   "outputs": [
    {
     "name": "stdout",
     "output_type": "stream",
     "text": [
      "Enter 'A' for Addition.\n",
      "Enter 'S' for Subtraction.\n",
      "Enter 'M' for Multiplication.\n",
      "Enter 'D' for Division.\n"
     ]
    },
    {
     "name": "stdin",
     "output_type": "stream",
     "text": [
      "Enter Choice: (A, S, M, D): m\n",
      "Enter first number:  2\n",
      "Enter second number:  2\n"
     ]
    },
    {
     "name": "stdout",
     "output_type": "stream",
     "text": [
      "2.0 * 2.0 = 4.0\n"
     ]
    },
    {
     "name": "stdin",
     "output_type": "stream",
     "text": [
      "Do you want to perform another calculation? (yes/no): l\n",
      "Enter Choice: (A, S, M, D): j\n"
     ]
    },
    {
     "name": "stdout",
     "output_type": "stream",
     "text": [
      "Your input was invalid. Please input a correct choice.\n"
     ]
    }
   ],
   "source": [
    "print(\"Enter 'A' for Addition.\")\n",
    "print(\"Enter 'S' for Subtraction.\")\n",
    "print(\"Enter 'M' for Multiplication.\")\n",
    "print(\"Enter 'D' for Division.\")\n",
    "\n",
    "\n",
    "\n",
    "\n",
    "while True:\n",
    "    choice = input(\"Enter Choice: (A, S, M, D):\")\n",
    "\n",
    "    if choice.upper() in ('A', 'ADD', 'S', 'SUBTRACT', 'M', 'MULTIPLY', 'D', 'DIVIDE'):\n",
    "        num1 = float(input(\"Enter first number: \"))\n",
    "        num2 = float(input(\"Enter second number: \"))\n",
    "    \n",
    "        if choice.upper() in ('A', 'ADD'):\n",
    "            print(num1, '+', num2, '=', add(num1,num2))\n",
    "    \n",
    "        elif choice.upper() in ('S', 'SUBTRACT'):\n",
    "            print(num1, '-', num2, '=', subtract(num1,num2))\n",
    "    \n",
    "        elif choice.upper() in ('M', 'MULTIPLY'):\n",
    "            print(num1, '*', num2, '=', multiply(num1,num2))\n",
    "    \n",
    "        elif choice.upper() in ('D', 'DIVIDE'):\n",
    "            print(num1, '/', num2, '=', divide(num1,num2))\n",
    "    \n",
    "    else:\n",
    "        print(\"Your input was invalid. Please input a correct choice.\")\n",
    "\n",
    "    next_calculation = input(\"Do you want to perform another calculation? (yes/no):\")\n",
    "    if next_calculation.lower() in ('no', 'n'):\n",
    "        break\n",
    "    \n",
    "    "
   ]
  },
  {
   "cell_type": "code",
   "execution_count": null,
   "id": "b0212d95-f829-4cf6-8912-f71bb766a5eb",
   "metadata": {},
   "outputs": [],
   "source": []
  },
  {
   "cell_type": "code",
   "execution_count": null,
   "id": "85414265-48ec-4586-a915-bc1de9c7cbed",
   "metadata": {},
   "outputs": [],
   "source": []
  },
  {
   "cell_type": "code",
   "execution_count": null,
   "id": "d0083d18-a8a8-4cd1-9c98-da74733caae5",
   "metadata": {},
   "outputs": [],
   "source": []
  },
  {
   "cell_type": "code",
   "execution_count": null,
   "id": "ca339f93-270d-4926-b7fa-c7d6079d778b",
   "metadata": {},
   "outputs": [],
   "source": []
  },
  {
   "cell_type": "code",
   "execution_count": null,
   "id": "47cb6220-3f1a-44d6-a001-69375685c51b",
   "metadata": {},
   "outputs": [],
   "source": []
  },
  {
   "cell_type": "code",
   "execution_count": null,
   "id": "bb350e62-91f1-4a03-9b9c-6e00245c2f8f",
   "metadata": {},
   "outputs": [],
   "source": []
  },
  {
   "cell_type": "code",
   "execution_count": null,
   "id": "d16632dd-141a-418b-b739-47ce33badd03",
   "metadata": {},
   "outputs": [],
   "source": []
  },
  {
   "cell_type": "code",
   "execution_count": null,
   "id": "35445a10-40e8-4706-8647-b606702a7178",
   "metadata": {},
   "outputs": [],
   "source": []
  },
  {
   "cell_type": "code",
   "execution_count": null,
   "id": "df69d3c8-a598-4a55-999b-fa75e2c6c26f",
   "metadata": {},
   "outputs": [],
   "source": []
  },
  {
   "cell_type": "code",
   "execution_count": null,
   "id": "e771cbe1-60d8-47ee-a6fd-709827b3cfc9",
   "metadata": {},
   "outputs": [],
   "source": []
  },
  {
   "cell_type": "code",
   "execution_count": null,
   "id": "cd4fa3e7-baee-4840-9dd3-ae82c6259452",
   "metadata": {},
   "outputs": [],
   "source": []
  },
  {
   "cell_type": "code",
   "execution_count": null,
   "id": "ece7c3b8-15f3-44fb-afb8-abb54be37a43",
   "metadata": {},
   "outputs": [],
   "source": []
  },
  {
   "cell_type": "code",
   "execution_count": null,
   "id": "2dd2e92c-885f-4f6f-9118-67882c740451",
   "metadata": {},
   "outputs": [],
   "source": []
  },
  {
   "cell_type": "code",
   "execution_count": null,
   "id": "176ca492-d0a6-42cd-8757-75bdcd6affbf",
   "metadata": {},
   "outputs": [],
   "source": []
  },
  {
   "cell_type": "code",
   "execution_count": null,
   "id": "3c9ede43-d3c2-46bd-8cd4-7bcbd07d2291",
   "metadata": {},
   "outputs": [],
   "source": []
  },
  {
   "cell_type": "code",
   "execution_count": null,
   "id": "592513f9-170b-4977-be0e-8b8690e520e6",
   "metadata": {},
   "outputs": [],
   "source": []
  },
  {
   "cell_type": "code",
   "execution_count": null,
   "id": "a37f05ca-b3a4-4c17-a210-28531160ae68",
   "metadata": {},
   "outputs": [],
   "source": []
  },
  {
   "cell_type": "code",
   "execution_count": null,
   "id": "cdce2cad-f1f5-4ce1-89b0-6db7f3a04ba8",
   "metadata": {},
   "outputs": [],
   "source": []
  },
  {
   "cell_type": "code",
   "execution_count": null,
   "id": "45d362a2-6aa8-43f0-852c-6af4eebf8c76",
   "metadata": {},
   "outputs": [],
   "source": []
  },
  {
   "cell_type": "code",
   "execution_count": null,
   "id": "bee78858-0a43-4d64-9c1c-c1a611ad1c53",
   "metadata": {},
   "outputs": [],
   "source": []
  },
  {
   "cell_type": "code",
   "execution_count": null,
   "id": "4af6df3f-00a2-4352-9822-70ca412fa72d",
   "metadata": {},
   "outputs": [],
   "source": []
  },
  {
   "cell_type": "code",
   "execution_count": null,
   "id": "b0bf98b2-bcb2-4113-bec0-ec44aeec7b77",
   "metadata": {},
   "outputs": [],
   "source": []
  },
  {
   "cell_type": "code",
   "execution_count": null,
   "id": "137da0cd-9947-4c1e-bf4c-cb7e8ece74c6",
   "metadata": {},
   "outputs": [],
   "source": []
  },
  {
   "cell_type": "code",
   "execution_count": null,
   "id": "7089d09b-3e2f-4f46-8f00-111fdf1db091",
   "metadata": {},
   "outputs": [],
   "source": []
  },
  {
   "cell_type": "code",
   "execution_count": null,
   "id": "b20c04a3-837b-4e31-b8d4-667031973148",
   "metadata": {},
   "outputs": [],
   "source": []
  },
  {
   "cell_type": "code",
   "execution_count": null,
   "id": "81d336c1-8766-42f1-a967-1fefa718dae6",
   "metadata": {},
   "outputs": [],
   "source": []
  },
  {
   "cell_type": "code",
   "execution_count": null,
   "id": "46bc73a7-8c5e-4248-9104-904859ec584b",
   "metadata": {},
   "outputs": [],
   "source": []
  },
  {
   "cell_type": "code",
   "execution_count": null,
   "id": "767a7fe8-d830-47e1-b28b-7b0796f60973",
   "metadata": {},
   "outputs": [],
   "source": []
  },
  {
   "cell_type": "code",
   "execution_count": null,
   "id": "28556d13-7bc7-490d-b387-deb93ab52163",
   "metadata": {},
   "outputs": [],
   "source": []
  },
  {
   "cell_type": "code",
   "execution_count": null,
   "id": "7e04f4bc-29ea-4ac5-8b00-9ebde5c56b1b",
   "metadata": {},
   "outputs": [],
   "source": []
  },
  {
   "cell_type": "code",
   "execution_count": null,
   "id": "9e30fe1d-d2c6-4cfe-ac8a-80389e5a54a1",
   "metadata": {},
   "outputs": [],
   "source": []
  },
  {
   "cell_type": "code",
   "execution_count": null,
   "id": "440db6c8-493b-41a2-afb1-5552cddbaf7f",
   "metadata": {},
   "outputs": [],
   "source": []
  },
  {
   "cell_type": "code",
   "execution_count": null,
   "id": "86628964-0a95-47c5-a28b-283abd43764d",
   "metadata": {},
   "outputs": [],
   "source": []
  },
  {
   "cell_type": "code",
   "execution_count": null,
   "id": "68fad19d-fcef-4955-b142-b3d12d184b62",
   "metadata": {},
   "outputs": [],
   "source": []
  },
  {
   "cell_type": "code",
   "execution_count": null,
   "id": "786884cb-b040-4a63-afbd-af0bdb1a1e09",
   "metadata": {},
   "outputs": [],
   "source": []
  },
  {
   "cell_type": "code",
   "execution_count": null,
   "id": "466a8ba1-5d62-4221-a5ec-b9035b54ab85",
   "metadata": {},
   "outputs": [],
   "source": []
  },
  {
   "cell_type": "code",
   "execution_count": null,
   "id": "10da5188-3418-4bfa-8bc7-46c0550a6a3f",
   "metadata": {},
   "outputs": [],
   "source": []
  }
 ],
 "metadata": {
  "kernelspec": {
   "display_name": "Python [conda env:base] *",
   "language": "python",
   "name": "conda-base-py"
  },
  "language_info": {
   "codemirror_mode": {
    "name": "ipython",
    "version": 3
   },
   "file_extension": ".py",
   "mimetype": "text/x-python",
   "name": "python",
   "nbconvert_exporter": "python",
   "pygments_lexer": "ipython3",
   "version": "3.12.7"
  }
 },
 "nbformat": 4,
 "nbformat_minor": 5
}
